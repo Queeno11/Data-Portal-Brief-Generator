{
 "cells": [
  {
   "cell_type": "code",
   "execution_count": 2,
   "metadata": {},
   "outputs": [],
   "source": [
    "from pdf2image import convert_from_path\n",
    "briefs = r\"D:\\Laboral\\World Bank\\Data-Portal-Brief-Generator\\Briefs\"\n",
    "countryname = \"Afghanistan\"\n",
    "pages = convert_from_path(fr'{briefs}\\{countryname}\\{countryname}.pdf', 500, poppler_path = r\"C:\\Program Files (x86)\\poppler-23.07.0\\Library\\bin\")\n",
    "pages[0].save(fr'{briefs}\\{countryname}\\{countryname}_p1.jpg', 'JPEG')\n",
    "pages[1].save(fr'{briefs}\\{countryname}\\{countryname}_p2.jpg', 'JPEG')"
   ]
  },
  {
   "cell_type": "code",
   "execution_count": 16,
   "metadata": {},
   "outputs": [
    {
     "ename": "AttributeError",
     "evalue": "module 'cv2' has no attribute 'show'",
     "output_type": "error",
     "traceback": [
      "\u001b[1;31m---------------------------------------------------------------------------\u001b[0m",
      "\u001b[1;31mAttributeError\u001b[0m                            Traceback (most recent call last)",
      "\u001b[1;32md:\\Laboral\\World Bank\\Data-Portal-Brief-Generator\\11_add_header_footer.ipynb Cell 2\u001b[0m in \u001b[0;36m<cell line: 10>\u001b[1;34m()\u001b[0m\n\u001b[0;32m      <a href='vscode-notebook-cell:/d%3A/Laboral/World%20Bank/Data-Portal-Brief-Generator/11_add_header_footer.ipynb#W3sZmlsZQ%3D%3D?line=7'>8</a>\u001b[0m final_image[\u001b[39m-\u001b[39m\u001b[39m295\u001b[39m:\u001b[39m-\u001b[39m\u001b[39m1\u001b[39m,\u001b[39m0\u001b[39m:\u001b[39m2553\u001b[39m,:] \u001b[39m=\u001b[39m image_to_be_added[:,:,:] \u001b[39m#adjust the numbers according to the dimensions of the image_to_be_added\u001b[39;00m\n\u001b[0;32m      <a href='vscode-notebook-cell:/d%3A/Laboral/World%20Bank/Data-Portal-Brief-Generator/11_add_header_footer.ipynb#W3sZmlsZQ%3D%3D?line=8'>9</a>\u001b[0m cv2\u001b[39m.\u001b[39mimwrite(\u001b[39mr\u001b[39m\u001b[39m\"\u001b[39m\u001b[39mD:\u001b[39m\u001b[39m\\\u001b[39m\u001b[39mDownloads\u001b[39m\u001b[39m\\\u001b[39m\u001b[39mOneDrive_1_7-7-2023\u001b[39m\u001b[39m\\\u001b[39m\u001b[39mfinal_image.jpg\u001b[39m\u001b[39m\"\u001b[39m, final_image)\n\u001b[1;32m---> <a href='vscode-notebook-cell:/d%3A/Laboral/World%20Bank/Data-Portal-Brief-Generator/11_add_header_footer.ipynb#W3sZmlsZQ%3D%3D?line=9'>10</a>\u001b[0m cv2\u001b[39m.\u001b[39;49mshow()\n",
      "\u001b[1;31mAttributeError\u001b[0m: module 'cv2' has no attribute 'show'"
     ]
    }
   ],
   "source": [
    "# Step 2: overlay image_to_be_added onto full_page_image\n",
    "\n",
    "import cv2\n",
    "import numpy as np\n",
    "full_page_image = cv2.imread(fr'{briefs}\\{countryname}\\{countryname}_p2.jpg')\n",
    "image_to_be_added = cv2.imread(r\"D:\\Downloads\\OneDrive_1_7-7-2023\\p2 footer.png\")\n",
    "final_image = full_page_image.copy()\n",
    "final_image[-295:-1,0:2553,:] = image_to_be_added[:,:,:] #adjust the numbers according to the dimensions of the image_to_be_added\n",
    "cv2.imwrite(r\"D:\\Downloads\\OneDrive_1_7-7-2023\\final_image.jpg\", final_image)\n"
   ]
  },
  {
   "cell_type": "code",
   "execution_count": 17,
   "metadata": {},
   "outputs": [],
   "source": [
    "from PIL import Image\n",
    "final_image2 = Image.open(r\"D:\\Downloads\\OneDrive_1_7-7-2023\\final_image.jpg\")\n",
    "final_image3 = final_image2.convert('RGB')\n",
    "final_image3.save(r\"D:\\Downloads\\OneDrive_1_7-7-2023\\final_pdf.pdf\")\n"
   ]
  },
  {
   "cell_type": "code",
   "execution_count": 45,
   "metadata": {},
   "outputs": [],
   "source": [
    "from PIL import Image\n",
    "briefs = r\"D:\\Laboral\\World Bank\\Data-Portal-Brief-Generator\\Briefs\"\n",
    "looper = [(\"Afghanistan\", \"AFG\"), (\"Albania\", \"ALB\"), (\"Algeria\", \"DZA\"), (\"Angola\", \"AGO\")]\n",
    "i=2\n",
    "for countryname, wbcode in looper:\n",
    "    # PDF to jpg\n",
    "    pages = convert_from_path(fr'{briefs}\\{countryname}\\{countryname}.pdf', 500, poppler_path = r\"C:\\Program Files (x86)\\poppler-23.07.0\\Library\\bin\")\n",
    "    pages[0].save(fr'{briefs}\\{countryname}\\{countryname}_p1.jpg', 'JPEG')\n",
    "    pages[1].save(fr'{briefs}\\{countryname}\\{countryname}_p2.jpg', 'JPEG')\n",
    "    \n",
    "    ## P2\n",
    "    # Open the images\n",
    "    background = Image.open(fr'{briefs}\\{countryname}\\{countryname}_p2.jpg')\n",
    "    header = Image.open(rf\"D:\\Downloads\\OneDrive_1_7-7-2023 (1)\\_0{i}-2-HCCB-{wbcode}.png\")\n",
    "    footer = Image.open(r\"D:\\Downloads\\OneDrive_1_7-7-2023\\p2 footer.png\")\n",
    "\n",
    "    # Resize the header image to match the background size\n",
    "    new_width = background.size[0] + 2\n",
    "    old_width = header.size[0]\n",
    "    old_height = header.size[1]\n",
    "    new_height = int(old_height * (new_width / old_width)) + 2\n",
    "    header = header.resize((new_width, new_height))\n",
    "\n",
    "    # Resize the footer image to match the background size\n",
    "    new_width = background.size[0] + 2\n",
    "    old_width = footer.size[0]\n",
    "    old_height = footer.size[1]\n",
    "    new_height = int(old_height * (new_width / old_width)) + 2\n",
    "    footer = footer.resize((new_width, new_height))\n",
    "\n",
    "    # Create a new image with transparency\n",
    "    merged_image = Image.new(\"RGBA\", background.size)\n",
    "\n",
    "    # Paste the background image onto the new image\n",
    "    merged_image.paste(background, (0, 0))\n",
    "\n",
    "    # Paste the footer image onto the new image, using the alpha channel of the footer\n",
    "    merged_image.paste(footer, (-1, background.size[1]-new_height-1), mask=footer)\n",
    "    merged_image.paste(header, (-1, -1), mask=header)\n",
    "\n",
    "    # Save the result\n",
    "    merged_image.save(f\"test_{wbcode}.png\")\n",
    "    i+=1"
   ]
  },
  {
   "cell_type": "code",
   "execution_count": 38,
   "metadata": {},
   "outputs": [],
   "source": [
    "from PIL import Image\n",
    "\n",
    "# Open the images\n",
    "background = Image.open(fr'merged_image.png')\n",
    "header = Image.open(r\"D:\\Downloads\\OneDrive_1_7-7-2023 (1)\\_02-2-HCCB-AFG.png\")\n",
    "\n",
    "# Resize the header image to match the background size\n",
    "new_width = background.size[0] + 2\n",
    "old_width = header.size[0]\n",
    "old_height = header.size[1]\n",
    "new_height = int(old_height * (new_width / old_width)) + 2\n",
    "header = header.resize((new_width, new_height))\n",
    "\n",
    "# Create a new image with transparency\n",
    "merged_image = Image.new(\"RGBA\", background.size)\n",
    "\n",
    "# Paste the background image onto the new image\n",
    "merged_image.paste(background, (0, 0))\n",
    "\n",
    "# Paste the header image onto the new image, using the alpha channel of the header\n",
    "merged_image.paste(header, (-1, -1), mask=header)\n",
    "\n",
    "# Save the result\n",
    "merged_image.save(\"merged_image.png\")\n"
   ]
  },
  {
   "cell_type": "code",
   "execution_count": 28,
   "metadata": {},
   "outputs": [
    {
     "data": {
      "text/plain": [
       "4250"
      ]
     },
     "execution_count": 28,
     "metadata": {},
     "output_type": "execute_result"
    }
   ],
   "source": [
    "background.size[0]"
   ]
  },
  {
   "cell_type": "code",
   "execution_count": 14,
   "metadata": {},
   "outputs": [
    {
     "data": {
      "text/plain": [
       "array([[[255, 255, 255],\n",
       "        [255, 255, 255],\n",
       "        [255, 255, 255],\n",
       "        ...,\n",
       "        [255, 255, 255],\n",
       "        [255, 255, 255],\n",
       "        [255, 255, 255]],\n",
       "\n",
       "       [[255, 255, 255],\n",
       "        [255, 255, 255],\n",
       "        [255, 255, 255],\n",
       "        ...,\n",
       "        [255, 255, 255],\n",
       "        [255, 255, 255],\n",
       "        [255, 255, 255]],\n",
       "\n",
       "       [[255, 255, 255],\n",
       "        [255, 255, 255],\n",
       "        [255, 255, 255],\n",
       "        ...,\n",
       "        [255, 255, 255],\n",
       "        [255, 255, 255],\n",
       "        [255, 255, 255]],\n",
       "\n",
       "       ...,\n",
       "\n",
       "       [[ 79,  47,   0],\n",
       "        [ 80,  48,   0],\n",
       "        [ 80,  48,   0],\n",
       "        ...,\n",
       "        [255, 255, 255],\n",
       "        [255, 255, 255],\n",
       "        [255, 255, 255]],\n",
       "\n",
       "       [[ 79,  47,   0],\n",
       "        [ 79,  47,   0],\n",
       "        [ 79,  47,   0],\n",
       "        ...,\n",
       "        [255, 255, 255],\n",
       "        [255, 255, 255],\n",
       "        [255, 255, 255]],\n",
       "\n",
       "       [[255, 255, 255],\n",
       "        [255, 255, 255],\n",
       "        [255, 255, 255],\n",
       "        ...,\n",
       "        [255, 255, 255],\n",
       "        [255, 255, 255],\n",
       "        [255, 255, 255]]], dtype=uint8)"
      ]
     },
     "execution_count": 14,
     "metadata": {},
     "output_type": "execute_result"
    }
   ],
   "source": [
    "final_image"
   ]
  }
 ],
 "metadata": {
  "kernelspec": {
   "display_name": "Python 3",
   "language": "python",
   "name": "python3"
  },
  "language_info": {
   "codemirror_mode": {
    "name": "ipython",
    "version": 3
   },
   "file_extension": ".py",
   "mimetype": "text/x-python",
   "name": "python",
   "nbconvert_exporter": "python",
   "pygments_lexer": "ipython3",
   "version": "3.9.13"
  },
  "orig_nbformat": 4
 },
 "nbformat": 4,
 "nbformat_minor": 2
}
