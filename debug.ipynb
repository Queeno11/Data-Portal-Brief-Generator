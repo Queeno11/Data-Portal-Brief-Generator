{
 "cells": [
  {
   "cell_type": "code",
   "execution_count": null,
   "metadata": {},
   "outputs": [],
   "source": [
    "import pandas as pd\n",
    "\n",
    "data = r\"D:\\Laboral\\World Bank\\Data-Portal-Brief-Generator\\Data\"\n",
    "data_raw = fr\"{data}\\Data_Raw\"\n",
    "data_processed = fr\"{data}\\Data_Processed\" \n",
    "\n",
    "complete_series_wmetadata = pd.read_stata(fr\"{data_processed}\\complete_series_wmetadata.dta\")\n",
    "names = pd.read_excel(fr\"{data_raw}\\Country codes & metadata\\metadata.xlsx\")\n",
    "coded_names = names.code.str.replace(\".\",\"_\").unique()\n",
    "variables = pd.Series(complete_series_wmetadata.code.unique())\n",
    "assert variables.isin(coded_names).all(), f\"There are indicators without metadata: {variables[-variables.isin(coded_names)]}\""
   ]
  }
 ],
 "metadata": {
  "kernelspec": {
   "display_name": "Python 3",
   "language": "python",
   "name": "python3"
  },
  "language_info": {
   "name": "python",
   "version": "3.9.13"
  },
  "orig_nbformat": 4
 },
 "nbformat": 4,
 "nbformat_minor": 2
}
